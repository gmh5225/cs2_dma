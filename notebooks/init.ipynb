{
 "cells": [
  {
   "cell_type": "code",
   "execution_count": 1,
   "id": "19e204f9-48d0-4fb3-a8fd-ad5f36933717",
   "metadata": {
    "tags": []
   },
   "outputs": [],
   "source": [
    "from dataclasses import dataclass\n",
    "from typing import Tuple\n",
    "\n",
    "from numpy import uint64 as u64\n",
    "import memprocfs"
   ]
  },
  {
   "cell_type": "code",
   "execution_count": 15,
   "id": "f7725353-c9f1-439c-82e6-392f04e10d2d",
   "metadata": {},
   "outputs": [],
   "source": [
    "def show(bytes):\n",
    "    print(vmm.hex(bytes))"
   ]
  },
  {
   "cell_type": "code",
   "execution_count": 2,
   "id": "c3bfb74f-9ee2-4a5f-8cad-1c7ab10c8c55",
   "metadata": {},
   "outputs": [],
   "source": [
    "@dataclass\n",
    "class CS2Offsets:\n",
    "    cs2_entity_list: u64\n",
    "    cs2_view_matrix: u64\n",
    "    cs2_client_state: u64\n",
    "    cs2_local_player: u64\n",
    "    cs2_view_angle: u64\n",
    "    cs2_map: u64\n",
    "    cs2_player_info: u64\n",
    "    cs2_life_state: u64\n",
    "    cs2_ang_eye_angle: u64\n",
    "    cs2_dormant: u64\n",
    "    cs2_team: u64\n",
    "    cs2_health: u64\n",
    "    cs2_origin: u64"
   ]
  },
  {
   "cell_type": "code",
   "execution_count": 3,
   "id": "d64b1124-7139-4aa0-ad04-5cae2d35f913",
   "metadata": {},
   "outputs": [],
   "source": [
    "@dataclass\n",
    "class EntityInfo:\n",
    "    team: int\n",
    "    health: int\n",
    "    lifestate: int\n",
    "    origin: Tuple[float, float, float]\n",
    "    origin_forward: Tuple[float, float, float]\n",
    "    view_angle: Tuple[float, float]\n",
    "    local: int\n",
    "    valid: int\n",
    "    name: str"
   ]
  },
  {
   "cell_type": "code",
   "execution_count": 4,
   "id": "4b1e33ca-7a04-4c31-9653-e9eaa3ce1e82",
   "metadata": {},
   "outputs": [],
   "source": [
    "# Initialize base object vmm from dump file\n",
    "vmm = memprocfs.Vmm(['-device', 'fpga'], )"
   ]
  },
  {
   "cell_type": "code",
   "execution_count": 5,
   "id": "3b122fbd-0426-4a9b-b657-80b5e7467eac",
   "metadata": {},
   "outputs": [],
   "source": [
    "process = vmm.process('cs2.exe')"
   ]
  },
  {
   "cell_type": "code",
   "execution_count": 6,
   "id": "5a41da96-0b61-4925-9f32-96a5cb9d4019",
   "metadata": {},
   "outputs": [],
   "source": [
    "client = process.module('client.dll')"
   ]
  },
  {
   "cell_type": "code",
   "execution_count": 36,
   "id": "fc7a7e63-2f52-49cf-b254-0b1c11ce982d",
   "metadata": {},
   "outputs": [],
   "source": [
    "local_player = process.memory.read(client.base+0x171C6E8, 0x8, memprocfs.FLAG_NOCACHE)"
   ]
  },
  {
   "cell_type": "code",
   "execution_count": 63,
   "id": "37da048b-9a04-4e09-a4c0-0525219a7847",
   "metadata": {},
   "outputs": [],
   "source": [
    "t = int.from_bytes(local_player, 'little')"
   ]
  },
  {
   "cell_type": "code",
   "execution_count": 69,
   "id": "aa773431-7002-4f3e-a1c7-d1ad71cc68d2",
   "metadata": {},
   "outputs": [
    {
     "name": "stdout",
     "output_type": "stream",
     "text": [
      "0000    c8 e4 48 d1 fe 7f 00 00  00 00 00 00 00 00 00 00   ..H.. ..........\n",
      "0010    18 3b c9 ae 5b 02 00 00  00 00 00 00 00 00 00 00   .;..[...........\n",
      "0020    00 00 00 00 00 00 00 00  00 00 00 00 00 00 00 00   ................\n",
      "0030    00 00 bd 5a 5b 02 00 00  20 b2 44 d1 fe 7f 00 00   ...Z[... .D.. ..\n",
      "0040    00 00 00 00 00 00 00 00  00 00 00 00 00 00 00 00   ................\n",
      "0050    00 00 00 00 00 00 00 00  00 00 00 00 00 00 00 00   ................\n",
      "0060    00 00 00 00 00 00 00 00  00 00 00 00 00 00 00 00   ................\n",
      "0070    00 00 00 00 00 00 00 00  00 00 00 00 00 00 00 00   ................\n",
      "0080    00 00 00 00 00 00 00 00  00 00 00 00 00 00 00 00   ................\n",
      "0090    00 00 00 00 00 00 00 00  00 00 00 00 00 00 00 00   ................\n",
      "00a0    00 00 00 00 00 00 00 00  00 00 00 00 00 00 00 00   ................\n",
      "00b0    00 00 00 00 00 00 00 00  00 00 00 00 00 00 00 00   ................\n",
      "00c0    00 00 00 00 00 00 00 00  00 00 00 00 00 00 00 00   ................\n",
      "00d0    00 00 00 00 00 00 00 00  00 00 00 00 00 00 00 00   ................\n",
      "00e0    00 00 00 00 00 00 00 00  00 00 00 00 00 00 00 00   ................\n",
      "00f0    00 00 00 00 00 00 00 00  00 00 00 00 00 00 00      ............... \n",
      "\n"
     ]
    }
   ],
   "source": [
    "show(process.memory.read(t, 0xFF, memprocfs.FLAG_NOCACHE))"
   ]
  },
  {
   "cell_type": "code",
   "execution_count": 70,
   "id": "de0e80e0-02d6-4d9a-b53f-a7ae3fd1141d",
   "metadata": {},
   "outputs": [
    {
     "name": "stdout",
     "output_type": "stream",
     "text": [
      "0000    c8 e4 48 d1 fe 7f 00 00  00 00 00 00 00 00 00 00   ..H.. ..........\n",
      "0010    18 3b c9 ae 5b 02 00 00  00 00 00 00 00 00 00 00   .;..[...........\n",
      "0020    00 00 00 00 00 00 00 00  00 00 00 00 00 00 00 00   ................\n",
      "0030    00 00 bd 5a 5b 02 00 00  20 b2 44 d1 fe 7f 00 00   ...Z[... .D.. ..\n",
      "0040    00 00 00 00 00 00 00 00  00 00 00 00 00 00 00 00   ................\n",
      "0050    00 00 00 00 00 00 00 00  00 00 00 00 00 00 00 00   ................\n",
      "0060    00 00 00 00 00 00 00 00  00 00 00 00 00 00 00 00   ................\n",
      "0070    00 00 00 00 00 00 00 00  00 00 00 00 00 00 00 00   ................\n",
      "0080    00 00 00 00 00 00 00 00  00 00 00 00 00 00 00 00   ................\n",
      "0090    00 00 00 00 00 00 00 00  00 00 00 00 00 00 00 00   ................\n",
      "00a0    00 00 00 00 00 00 00 00  00 00 00 00 00 00 00 00   ................\n",
      "00b0    00 00 00 00 00 00 00 00  00 00 00 00 00 00 00 00   ................\n",
      "00c0    00 00 00 00 00 00 00 00  00 00 00 00 00 00 00 00   ................\n",
      "00d0    00 00 00 00 00 00 00 00  00 00 00 00 00 00 00 00   ................\n",
      "00e0    00 00 00 00 00 00 00 00  00 00 00 00 00 00 00 00   ................\n",
      "00f0    00 00 00 00 00 00 00 00  00 00 00 00 00 00 00      ............... \n",
      "\n"
     ]
    }
   ],
   "source": [
    "show(process.memory.read(t, 0xFF, memprocfs.FLAG_NOCACHE))"
   ]
  },
  {
   "cell_type": "code",
   "execution_count": 42,
   "id": "7484c7ee-7c4c-4a47-879d-763b4d1dcd70",
   "metadata": {},
   "outputs": [],
   "source": [
    "rules = {\n",
    "    'global':' rule Globals { strings: $pat = { 48 89 15 ?? ?? ?? ?? 48 8D 05 ?? ?? ?? ?? 48 85 D2 } condition: $pat } ',\n",
    "    'local_player':' rule LocalPlayer { strings: $pat = { 48 83 3D ? ? ? ? ? 0F 95 } condition: $pat } ',\n",
    "    'entity_list':' rule EntityList { strings: $pat = { 4C 8B 0D ? ? ? ? 48 89 5C 24 ? 8B } condition: $pat } ',\n",
    "}"
   ]
  },
  {
   "cell_type": "code",
   "execution_count": 46,
   "id": "e040d91d-45a9-4c9b-9281-385557d17c82",
   "metadata": {},
   "outputs": [],
   "source": [
    "rules = {\n",
    "    'global':' rule Globals { strings: $pat = { 48 89 15 ?? ?? ?? ?? 48 8D 05 ?? ?? ?? ?? 48 85 D2 } condition: $pat } ',\n",
    "    'local_player':' rule LocalPlayer { strings: $pat = { 48 83 3D ?? ?? ?? ?? ?? 0F 95 } condition: $pat } ',\n",
    "}"
   ]
  },
  {
   "cell_type": "code",
   "execution_count": null,
   "id": "42d6f6f6-46d1-4624-91b2-a69f780fa4f6",
   "metadata": {},
   "outputs": [],
   "source": [
    "offset = 0x03\n",
    "inst_length = 0x07"
   ]
  },
  {
   "cell_type": "code",
   "execution_count": 47,
   "id": "746a1d49-c488-46ce-b332-cb0c8c21f051",
   "metadata": {},
   "outputs": [],
   "source": [
    "yara = process.search_yara(rules['local_player'], client.base)"
   ]
  },
  {
   "cell_type": "code",
   "execution_count": 48,
   "id": "d3d1ebc6-ef2c-4b5c-beac-cf8ee53c0b82",
   "metadata": {},
   "outputs": [],
   "source": [
    "yara.max_results = 10"
   ]
  },
  {
   "cell_type": "code",
   "execution_count": 49,
   "id": "c4399cb9-9bb6-464b-84fc-8a0c6fb65883",
   "metadata": {},
   "outputs": [
    {
     "data": {
      "text/plain": [
       "[]"
      ]
     },
     "execution_count": 49,
     "metadata": {},
     "output_type": "execute_result"
    }
   ],
   "source": [
    "yara.result()"
   ]
  },
  {
   "cell_type": "code",
   "execution_count": null,
   "id": "cf67e2a3-ea69-4661-9673-a4df2c6897e0",
   "metadata": {},
   "outputs": [],
   "source": []
  }
 ],
 "metadata": {
  "kernelspec": {
   "display_name": "Python 3 (ipykernel)",
   "language": "python",
   "name": "python3"
  },
  "language_info": {
   "codemirror_mode": {
    "name": "ipython",
    "version": 3
   },
   "file_extension": ".py",
   "mimetype": "text/x-python",
   "name": "python",
   "nbconvert_exporter": "python",
   "pygments_lexer": "ipython3",
   "version": "3.11.4"
  }
 },
 "nbformat": 4,
 "nbformat_minor": 5
}
